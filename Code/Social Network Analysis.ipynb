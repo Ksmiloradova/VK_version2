{
 "cells": [
  {
   "cell_type": "code",
   "execution_count": 1,
   "id": "25c5707a-cdcd-49f2-b45a-2a0458860a35",
   "metadata": {},
   "outputs": [],
   "source": [
    "import os\n",
    "import networkx as nx\n",
    "import pandas as pd\n",
    "import matplotlib.pyplot as plt\n",
    "\n",
    "import traceback\n",
    "from tqdm import trange, tqdm"
   ]
  },
  {
   "cell_type": "code",
   "execution_count": null,
   "id": "258b3084-4822-4eef-8aeb-40cf400bf898",
   "metadata": {},
   "outputs": [],
   "source": [
    "extract_dir = '..\\\\Data\\\\facebook'\n",
    "extract_dir = 'D:\\ROOT\\\\vk_data\\\\raw'\n",
    "os.makedirs(extract_dir, exist_ok = True)"
   ]
  },
  {
   "cell_type": "code",
   "execution_count": null,
   "id": "ac5c53a3-8b5a-43ad-9b21-c8c874d58d89",
   "metadata": {},
   "outputs": [
    {
     "data": {
      "text/plain": [
       "['author_affiliated_with_institution_edges.npy',\n",
       " 'groups&users all — копия.csv',\n",
       " 'groups&users all.csv',\n",
       " 'groups&users.csv',\n",
       " 'groups&users_.csv',\n",
       " 'test_idx.npy',\n",
       " 'train_idx.npy',\n",
       " 'valid_idx.npy']"
      ]
     },
     "execution_count": 3,
     "metadata": {},
     "output_type": "execute_result"
    }
   ],
   "source": [
    "extracted_files = os.listdir(extract_dir)\n",
    "the_file_name = 'groups&users.csv' \n",
    "the_file_name = 'groups&users all — копия.csv' \n",
    "extracted_files"
   ]
  },
  {
   "cell_type": "code",
   "execution_count": null,
   "id": "9cd9f631",
   "metadata": {},
   "outputs": [],
   "source": [
    "import re\n",
    "\n",
    "def line_to_users(line):\n",
    "    return split_line(line)[1:]\n",
    "    \n",
    "def split_line(line):\n",
    "    return re.split(';|,', line.strip())[:]"
   ]
  },
  {
   "cell_type": "code",
   "execution_count": null,
   "id": "ca99db09-89d0-493b-b2f5-bb10c2201d6e",
   "metadata": {},
   "outputs": [],
   "source": [
    "# # See available nodes\n",
    "# files = os.listdir(extract_dir)\n",
    "\n",
    "# node_ids = set()    \n",
    "# for file_name in files:\n",
    "#     if file_name.endswith(('.edges', '.circles', '.feat', '.egofeat', '.featnames', the_file_name)):\n",
    "#         with open(os.path.join(extract_dir,file_name)) as f:\n",
    "#             for line in f:\n",
    "#                 # node_id = file_name.split('.')[0]\n",
    "#                 node_id = line_to_users(line)\n",
    "#                 # for node in node_id\n",
    "#                 node_ids.update(node_id)\n",
    "\n",
    "# node_ids = sorted(node_ids)\n",
    "# len(node_ids)"
   ]
  },
  {
   "cell_type": "code",
   "execution_count": null,
   "id": "a4fc413b-c02e-4cff-8d44-519ecda1a1c1",
   "metadata": {},
   "outputs": [],
   "source": [
    "import itertools\n",
    "\n",
    "# Извлекаем все пары пользователей в одном сообществе\n",
    "def combinations(seq):\n",
    "    yield from itertools.permutations(seq, 2)\n",
    "\n",
    "# Function to load edges from a file\n",
    "def load_edges(extract_dir):\n",
    "    edges = []\n",
    "    i = 0\n",
    "    with open(extract_dir, 'r') as f:\n",
    "        for line in tqdm(f):\n",
    "            the_line = line_to_users(line)\n",
    "            if len(the_line) < 100:\n",
    "                i+=1\n",
    "                if i%500 == 0: print(i)\n",
    "                for c in combinations(the_line):\n",
    "                    edge = tuple(map(int, c))\n",
    "                    edges.append(edge)\n",
    "    print('Returning')\n",
    "    return edges"
   ]
  },
  {
   "cell_type": "code",
   "execution_count": null,
   "id": "cd37afeb",
   "metadata": {},
   "outputs": [
    {
     "name": "stderr",
     "output_type": "stream",
     "text": [
      "229it [00:00, 1141.78it/s]"
     ]
    },
    {
     "name": "stdout",
     "output_type": "stream",
     "text": [
      "20\n",
      "40\n",
      "60\n",
      "80\n",
      "100\n",
      "120\n",
      "140\n",
      "160\n"
     ]
    },
    {
     "name": "stderr",
     "output_type": "stream",
     "text": [
      "458it [00:00, 947.60it/s] "
     ]
    },
    {
     "name": "stdout",
     "output_type": "stream",
     "text": [
      "180\n",
      "200\n",
      "220\n",
      "240\n",
      "260\n",
      "280\n"
     ]
    },
    {
     "name": "stderr",
     "output_type": "stream",
     "text": [
      "726it [00:00, 1147.10it/s]"
     ]
    },
    {
     "name": "stdout",
     "output_type": "stream",
     "text": [
      "300\n",
      "320\n",
      "340\n",
      "360\n",
      "380\n",
      "400\n",
      "420\n"
     ]
    },
    {
     "name": "stderr",
     "output_type": "stream",
     "text": [
      "949it [00:00, 1031.04it/s]"
     ]
    },
    {
     "name": "stdout",
     "output_type": "stream",
     "text": [
      "440\n",
      "460\n",
      "480\n",
      "500\n",
      "520\n",
      "540\n"
     ]
    },
    {
     "name": "stderr",
     "output_type": "stream",
     "text": [
      "1149it [00:01, 908.91it/s]"
     ]
    },
    {
     "name": "stdout",
     "output_type": "stream",
     "text": [
      "560\n",
      "580\n",
      "600\n",
      "620\n",
      "640\n",
      "660\n",
      "680\n"
     ]
    },
    {
     "name": "stderr",
     "output_type": "stream",
     "text": [
      "1342it [00:01, 874.45it/s]"
     ]
    },
    {
     "name": "stdout",
     "output_type": "stream",
     "text": [
      "700\n",
      "720\n",
      "740\n",
      "760\n",
      "780\n",
      "800\n",
      "820\n"
     ]
    },
    {
     "name": "stderr",
     "output_type": "stream",
     "text": [
      "1591it [00:01, 1040.00it/s]"
     ]
    },
    {
     "name": "stdout",
     "output_type": "stream",
     "text": [
      "840\n",
      "860\n",
      "880\n",
      "900\n",
      "920\n",
      "940\n",
      "960\n"
     ]
    },
    {
     "name": "stderr",
     "output_type": "stream",
     "text": [
      "1810it [00:01, 1027.14it/s]"
     ]
    },
    {
     "name": "stdout",
     "output_type": "stream",
     "text": [
      "980\n",
      "1000\n",
      "1020\n",
      "1040\n",
      "1060\n",
      "1080\n"
     ]
    },
    {
     "name": "stderr",
     "output_type": "stream",
     "text": [
      "1914it [00:02, 801.50it/s] "
     ]
    },
    {
     "name": "stdout",
     "output_type": "stream",
     "text": [
      "1100\n",
      "1120\n"
     ]
    },
    {
     "name": "stderr",
     "output_type": "stream",
     "text": [
      "2010it [00:02, 836.41it/s]"
     ]
    },
    {
     "name": "stdout",
     "output_type": "stream",
     "text": [
      "1140\n",
      "1160\n",
      "1180\n"
     ]
    },
    {
     "name": "stderr",
     "output_type": "stream",
     "text": [
      "2174it [00:02, 629.76it/s]"
     ]
    },
    {
     "name": "stdout",
     "output_type": "stream",
     "text": [
      "1200\n",
      "1220\n",
      "1240\n",
      "1260\n",
      "1280\n",
      "1300\n",
      "1320\n"
     ]
    },
    {
     "name": "stderr",
     "output_type": "stream",
     "text": [
      "2325it [00:02, 610.64it/s]"
     ]
    },
    {
     "name": "stdout",
     "output_type": "stream",
     "text": [
      "1340\n",
      "1360\n",
      "1380\n",
      "1400\n",
      "1420\n",
      "1440\n"
     ]
    },
    {
     "name": "stderr",
     "output_type": "stream",
     "text": [
      "2417it [00:02, 675.38it/s]"
     ]
    },
    {
     "name": "stdout",
     "output_type": "stream",
     "text": [
      "1460\n"
     ]
    },
    {
     "name": "stderr",
     "output_type": "stream",
     "text": [
      "2562it [00:03, 489.58it/s]"
     ]
    },
    {
     "name": "stdout",
     "output_type": "stream",
     "text": [
      "1480\n",
      "1500\n",
      "1520\n",
      "1540\n",
      "1560\n"
     ]
    },
    {
     "name": "stderr",
     "output_type": "stream",
     "text": [
      "2754it [00:03, 662.65it/s]"
     ]
    },
    {
     "name": "stdout",
     "output_type": "stream",
     "text": [
      "1580\n",
      "1600\n",
      "1620\n",
      "1640\n",
      "1660\n",
      "1680\n",
      "1700\n"
     ]
    },
    {
     "name": "stderr",
     "output_type": "stream",
     "text": [
      "2941it [00:03, 745.22it/s]"
     ]
    },
    {
     "name": "stdout",
     "output_type": "stream",
     "text": [
      "1720\n",
      "1740\n",
      "1760\n",
      "1780\n",
      "1800\n",
      "1820\n",
      "1840\n"
     ]
    },
    {
     "name": "stderr",
     "output_type": "stream",
     "text": [
      "3135it [00:03, 751.99it/s]"
     ]
    },
    {
     "name": "stdout",
     "output_type": "stream",
     "text": [
      "1860\n",
      "1880\n",
      "1900\n",
      "1920\n",
      "1940\n",
      "1960\n"
     ]
    },
    {
     "name": "stderr",
     "output_type": "stream",
     "text": [
      "3370it [00:04, 739.37it/s]"
     ]
    },
    {
     "name": "stdout",
     "output_type": "stream",
     "text": [
      "1980\n",
      "2000\n",
      "2020\n",
      "2040\n",
      "2060\n"
     ]
    },
    {
     "name": "stderr",
     "output_type": "stream",
     "text": [
      "3446it [00:04, 663.72it/s]"
     ]
    },
    {
     "name": "stdout",
     "output_type": "stream",
     "text": [
      "2080\n",
      "2100\n",
      "2120\n"
     ]
    },
    {
     "name": "stderr",
     "output_type": "stream",
     "text": [
      "3515it [00:04, 622.60it/s]"
     ]
    },
    {
     "name": "stdout",
     "output_type": "stream",
     "text": [
      "2140\n",
      "2160\n",
      "2180\n"
     ]
    },
    {
     "name": "stderr",
     "output_type": "stream",
     "text": [
      "3636it [00:04, 513.15it/s]"
     ]
    },
    {
     "name": "stdout",
     "output_type": "stream",
     "text": [
      "2200\n",
      "2220\n",
      "2240\n"
     ]
    },
    {
     "name": "stderr",
     "output_type": "stream",
     "text": [
      "3855it [00:05, 597.01it/s]"
     ]
    },
    {
     "name": "stdout",
     "output_type": "stream",
     "text": [
      "2260\n",
      "2280\n",
      "2300\n",
      "2320\n",
      "2340\n",
      "2360\n"
     ]
    },
    {
     "name": "stderr",
     "output_type": "stream",
     "text": [
      "3918it [00:05, 547.03it/s]"
     ]
    },
    {
     "name": "stdout",
     "output_type": "stream",
     "text": [
      "2380\n",
      "2400\n",
      "2420\n",
      "2440\n",
      "2460\n",
      "2480\n"
     ]
    },
    {
     "name": "stderr",
     "output_type": "stream",
     "text": [
      "4061it [00:05, 605.66it/s]"
     ]
    },
    {
     "name": "stdout",
     "output_type": "stream",
     "text": [
      "2500\n",
      "2520\n",
      "2540\n",
      "2560\n",
      "2580\n",
      "2600\n"
     ]
    },
    {
     "name": "stderr",
     "output_type": "stream",
     "text": [
      "4344it [00:05, 750.76it/s]"
     ]
    },
    {
     "name": "stdout",
     "output_type": "stream",
     "text": [
      "2620\n",
      "2640\n",
      "2660\n",
      "2680\n",
      "2700\n",
      "2720\n",
      "2740\n",
      "2760\n",
      "2780\n"
     ]
    },
    {
     "name": "stderr",
     "output_type": "stream",
     "text": [
      "4539it [00:06, 842.31it/s]"
     ]
    },
    {
     "name": "stdout",
     "output_type": "stream",
     "text": [
      "2800\n",
      "2820\n",
      "2840\n",
      "2860\n",
      "2880\n"
     ]
    },
    {
     "name": "stderr",
     "output_type": "stream",
     "text": [
      "4785it [00:06, 910.31it/s]"
     ]
    },
    {
     "name": "stdout",
     "output_type": "stream",
     "text": [
      "2900\n",
      "2920\n",
      "2940\n",
      "2960\n",
      "2980\n",
      "3000\n"
     ]
    },
    {
     "name": "stderr",
     "output_type": "stream",
     "text": [
      "4878it [00:06, 750.46it/s]"
     ]
    },
    {
     "name": "stdout",
     "output_type": "stream",
     "text": [
      "3020\n",
      "3040\n",
      "3060\n",
      "3080\n"
     ]
    },
    {
     "name": "stderr",
     "output_type": "stream",
     "text": [
      "5117it [00:06, 745.67it/s]"
     ]
    },
    {
     "name": "stdout",
     "output_type": "stream",
     "text": [
      "3100\n",
      "3120\n",
      "3140\n",
      "3160\n",
      "3180\n"
     ]
    },
    {
     "name": "stderr",
     "output_type": "stream",
     "text": [
      "5296it [00:07, 802.60it/s]"
     ]
    },
    {
     "name": "stdout",
     "output_type": "stream",
     "text": [
      "3200\n",
      "3220\n",
      "3240\n",
      "3260\n",
      "3280\n",
      "3300\n"
     ]
    },
    {
     "name": "stderr",
     "output_type": "stream",
     "text": [
      "5399it [00:07, 828.90it/s]"
     ]
    },
    {
     "name": "stdout",
     "output_type": "stream",
     "text": [
      "3320\n",
      "3340\n",
      "3360\n",
      "3380\n",
      "3400\n",
      "3420\n"
     ]
    },
    {
     "name": "stderr",
     "output_type": "stream",
     "text": [
      "5754it [00:07, 975.21it/s]"
     ]
    },
    {
     "name": "stdout",
     "output_type": "stream",
     "text": [
      "3440\n",
      "3460\n",
      "3480\n",
      "3500\n",
      "3520\n",
      "3540\n",
      "3560\n",
      "3580\n",
      "3600\n"
     ]
    },
    {
     "name": "stderr",
     "output_type": "stream",
     "text": [
      "5992it [00:07, 1072.96it/s]"
     ]
    },
    {
     "name": "stdout",
     "output_type": "stream",
     "text": [
      "3620\n",
      "3640\n",
      "3660\n",
      "3680\n",
      "3700\n",
      "3720\n",
      "3740\n"
     ]
    },
    {
     "name": "stderr",
     "output_type": "stream",
     "text": [
      "6220it [00:08, 846.38it/s] "
     ]
    },
    {
     "name": "stdout",
     "output_type": "stream",
     "text": [
      "3760\n",
      "3780\n",
      "3800\n",
      "3820\n",
      "3840\n"
     ]
    },
    {
     "name": "stderr",
     "output_type": "stream",
     "text": [
      "6346it [00:08, 946.06it/s]"
     ]
    },
    {
     "name": "stdout",
     "output_type": "stream",
     "text": [
      "3860\n",
      "3880\n",
      "3900\n",
      "3920\n",
      "3940\n",
      "3960\n"
     ]
    },
    {
     "name": "stderr",
     "output_type": "stream",
     "text": [
      "6540it [00:08, 775.05it/s]"
     ]
    },
    {
     "name": "stdout",
     "output_type": "stream",
     "text": [
      "3980\n",
      "4000\n",
      "4020\n",
      "4040\n",
      "4060\n"
     ]
    },
    {
     "name": "stderr",
     "output_type": "stream",
     "text": [
      "6624it [00:08, 682.62it/s]"
     ]
    },
    {
     "name": "stdout",
     "output_type": "stream",
     "text": [
      "4080\n",
      "4100\n",
      "4120\n",
      "4140\n"
     ]
    },
    {
     "name": "stderr",
     "output_type": "stream",
     "text": [
      "6698it [00:08, 513.90it/s]"
     ]
    },
    {
     "name": "stdout",
     "output_type": "stream",
     "text": [
      "4160\n",
      "4180\n"
     ]
    },
    {
     "name": "stderr",
     "output_type": "stream",
     "text": [
      "6806it [00:09, 385.29it/s]"
     ]
    },
    {
     "name": "stdout",
     "output_type": "stream",
     "text": [
      "4200\n",
      "4220\n",
      "4240\n",
      "4260\n"
     ]
    },
    {
     "name": "stderr",
     "output_type": "stream",
     "text": [
      "6972it [00:09, 547.99it/s]"
     ]
    },
    {
     "name": "stdout",
     "output_type": "stream",
     "text": [
      "4280\n",
      "4300\n",
      "4320\n",
      "4340\n",
      "4360\n",
      "4380\n",
      "4400\n"
     ]
    },
    {
     "name": "stderr",
     "output_type": "stream",
     "text": [
      "7202it [00:09, 677.28it/s]"
     ]
    },
    {
     "name": "stdout",
     "output_type": "stream",
     "text": [
      "4420\n",
      "4440\n",
      "4460\n",
      "4480\n",
      "4500\n",
      "4520\n"
     ]
    },
    {
     "name": "stderr",
     "output_type": "stream",
     "text": [
      "7324it [00:09, 791.90it/s]"
     ]
    },
    {
     "name": "stdout",
     "output_type": "stream",
     "text": [
      "4540\n",
      "4560\n",
      "4580\n"
     ]
    },
    {
     "name": "stderr",
     "output_type": "stream",
     "text": [
      "7413it [00:10, 714.91it/s]"
     ]
    },
    {
     "name": "stdout",
     "output_type": "stream",
     "text": [
      "4600\n",
      "4620\n"
     ]
    },
    {
     "name": "stderr",
     "output_type": "stream",
     "text": [
      "7564it [00:10, 536.66it/s]"
     ]
    },
    {
     "name": "stdout",
     "output_type": "stream",
     "text": [
      "4640\n",
      "4660\n",
      "4680\n",
      "4700\n",
      "4720\n"
     ]
    },
    {
     "name": "stderr",
     "output_type": "stream",
     "text": [
      "7733it [00:10, 620.39it/s]"
     ]
    },
    {
     "name": "stdout",
     "output_type": "stream",
     "text": [
      "4740\n",
      "4760\n",
      "4780\n",
      "4800\n",
      "4820\n",
      "4840\n"
     ]
    },
    {
     "name": "stderr",
     "output_type": "stream",
     "text": [
      "7881it [00:10, 630.18it/s]"
     ]
    },
    {
     "name": "stdout",
     "output_type": "stream",
     "text": [
      "4860\n",
      "4880\n",
      "4900\n",
      "4920\n"
     ]
    },
    {
     "name": "stderr",
     "output_type": "stream",
     "text": [
      "8008it [00:11, 555.25it/s]"
     ]
    },
    {
     "name": "stdout",
     "output_type": "stream",
     "text": [
      "4940\n",
      "4960\n",
      "4980\n"
     ]
    },
    {
     "name": "stderr",
     "output_type": "stream",
     "text": [
      "8067it [00:11, 437.08it/s]"
     ]
    },
    {
     "name": "stdout",
     "output_type": "stream",
     "text": [
      "5000\n",
      "5020\n",
      "5040\n"
     ]
    },
    {
     "name": "stderr",
     "output_type": "stream",
     "text": [
      "8182it [00:11, 396.67it/s]"
     ]
    },
    {
     "name": "stdout",
     "output_type": "stream",
     "text": [
      "5060\n",
      "5080\n",
      "5100\n",
      "5120\n",
      "5140\n",
      "5160\n"
     ]
    },
    {
     "name": "stderr",
     "output_type": "stream",
     "text": [
      "8414it [00:12, 613.66it/s]"
     ]
    },
    {
     "name": "stdout",
     "output_type": "stream",
     "text": [
      "5180\n",
      "5200\n",
      "5220\n",
      "5240\n",
      "5260\n"
     ]
    },
    {
     "name": "stderr",
     "output_type": "stream",
     "text": [
      "8634it [00:12, 825.52it/s]"
     ]
    },
    {
     "name": "stdout",
     "output_type": "stream",
     "text": [
      "5280\n",
      "5300\n",
      "5320\n",
      "5340\n",
      "5360\n",
      "5380\n",
      "5400\n"
     ]
    },
    {
     "name": "stderr",
     "output_type": "stream",
     "text": [
      "8848it [00:12, 850.47it/s]"
     ]
    },
    {
     "name": "stdout",
     "output_type": "stream",
     "text": [
      "5420\n",
      "5440\n",
      "5460\n",
      "5480\n"
     ]
    },
    {
     "name": "stderr",
     "output_type": "stream",
     "text": [
      "8937it [00:12, 678.63it/s]"
     ]
    },
    {
     "name": "stdout",
     "output_type": "stream",
     "text": [
      "5500\n",
      "5520\n",
      "5540\n",
      "5560\n"
     ]
    },
    {
     "name": "stderr",
     "output_type": "stream",
     "text": [
      "9171it [00:13, 666.49it/s]"
     ]
    },
    {
     "name": "stdout",
     "output_type": "stream",
     "text": [
      "5580\n",
      "5600\n",
      "5620\n",
      "5640\n",
      "5660\n"
     ]
    },
    {
     "name": "stderr",
     "output_type": "stream",
     "text": [
      "9269it [00:13, 741.17it/s]"
     ]
    },
    {
     "name": "stdout",
     "output_type": "stream",
     "text": [
      "5680\n",
      "5700\n",
      "5720\n",
      "5740\n",
      "5760\n",
      "5780\n",
      "5800\n"
     ]
    },
    {
     "name": "stderr",
     "output_type": "stream",
     "text": [
      "9517it [00:13, 716.90it/s]"
     ]
    },
    {
     "name": "stdout",
     "output_type": "stream",
     "text": [
      "5820\n",
      "5840\n",
      "5860\n",
      "5880\n",
      "5900\n",
      "5920\n"
     ]
    },
    {
     "name": "stderr",
     "output_type": "stream",
     "text": [
      "9688it [00:13, 756.34it/s]"
     ]
    },
    {
     "name": "stdout",
     "output_type": "stream",
     "text": [
      "5940\n",
      "5960\n",
      "5980\n",
      "6000\n",
      "6020\n",
      "6040\n",
      "6060\n"
     ]
    },
    {
     "name": "stderr",
     "output_type": "stream",
     "text": [
      "9886it [00:13, 839.53it/s]"
     ]
    },
    {
     "name": "stdout",
     "output_type": "stream",
     "text": [
      "6080\n",
      "6100\n",
      "6120\n",
      "6140\n",
      "6160\n",
      "6180\n",
      "6200\n",
      "6220\n",
      "6240\n"
     ]
    },
    {
     "name": "stderr",
     "output_type": "stream",
     "text": [
      "10000it [00:14, 711.31it/s]\n"
     ]
    },
    {
     "name": "stdout",
     "output_type": "stream",
     "text": [
      "6260\n",
      "6280\n",
      "Returning\n",
      "Creating nx.Graph G\n"
     ]
    }
   ],
   "source": [
    "edges_file = os.path.join(extract_dir, the_file_name)\n",
    "edges = load_edges(edges_file)\n",
    "print('Creating nx.Graph G')\n",
    "# Printing number of nodes and edges for node from previous step\n",
    "G = nx.Graph()\n",
    "G.add_edges_from(edges)"
   ]
  },
  {
   "cell_type": "code",
   "execution_count": null,
   "id": "0d625301-5017-4a64-bf2f-04cb8e516df0",
   "metadata": {},
   "outputs": [
    {
     "name": "stdout",
     "output_type": "stream",
     "text": [
      "The ego network contains 147238 nodes and 3226155 edges\n"
     ]
    }
   ],
   "source": [
    "# # Load edges for node 0\n",
    "# for node_id in node_ids:\n",
    "    # edges_file = os.path.join(extract_dir, f'{node_id}.edges')\n",
    "\n",
    "num_nodes = G.number_of_nodes()\n",
    "num_edges = G.number_of_edges()\n",
    "\n",
    "# print(f\"The ego network for node {node_id} contains {num_nodes} nodes and  {num_edges} edges\")\n",
    "print(f\"The ego network contains {num_nodes} nodes and {num_edges} edges\")"
   ]
  },
  {
   "cell_type": "code",
   "execution_count": null,
   "id": "bcaee789-a02c-457f-88c3-8b1368bb3701",
   "metadata": {},
   "outputs": [],
   "source": [
    "# Compute centrality measures (for each network)\n",
    "## Define to compute centralities for each graph\n",
    "def compute_centrality_measures(G):\n",
    "    degree_centrality = nx.degree_centrality(G)\n",
    "    betweenness_centrality = nx.betweenness_centrality(G)\n",
    "    closeness_centrality = nx.closeness_centrality(G)\n",
    "    eigenvector_centrality = nx.eigenvector_centrality(G)\n",
    "    return {\n",
    "        'degree_centrality': degree_centrality,\n",
    "        'betweenness_centrality': betweenness_centrality,\n",
    "        'closeness_centrality': closeness_centrality,\n",
    "        'eigenvector_centrality': eigenvector_centrality\n",
    "    }\n",
    "\n",
    "def print_centrality_measures(node_id, centrality_measures):\n",
    "    # print(f\"Centrality measures for the ego network of node {node_id}:\")\n",
    "    print(f\"Centrality measures for the ego network:\")\n",
    "    degree_centrality = centrality_measures['degree_centrality']\n",
    "    betweenness_centrality = centrality_measures['betweenness_centrality']\n",
    "    closeness_centrality = centrality_measures['closeness_centrality']\n",
    "    eigenvector_centrality = centrality_measures['eigenvector_centrality']\n",
    "    \n",
    "    print(f\"The average degree centrality is {sum(degree_centrality.values()) / len(degree_centrality):.4f}\")\n",
    "    print(f\"The average betweenness centrality is {sum(betweenness_centrality.values()) / len(betweenness_centrality):.4f}\")\n",
    "    print(f\"The average closeness centrality is {sum(closeness_centrality.values()) / len(closeness_centrality):.4f}\")\n",
    "    print(f\"The average eigenvector centrality is {sum(eigenvector_centrality.values()) / len(eigenvector_centrality):.4f}\")\n",
    "\n",
    "# selected_node_ids = node_ids[:10]\n",
    "\n",
    "# # for node_id in selected_node_ids:\n",
    "# edges_file = os.path.join(extract_dir, the_file_name)\n",
    "# edges = load_edges(edges_file)\n",
    "\n",
    "# G = nx.Graph()\n",
    "# G.add_edges_from(edges)\n",
    "\n",
    "centrality_measures = compute_centrality_measures(G)\n",
    "\n",
    "# print_centrality_measures(node_id, centrality_measures)\n",
    "print_centrality_measures('', centrality_measures)\n",
    "print(\"\\n\")"
   ]
  },
  {
   "cell_type": "code",
   "execution_count": null,
   "id": "9bfea0ac-1ca7-4f67-88b1-88b7d44409b0",
   "metadata": {},
   "outputs": [],
   "source": [
    "# Function to load circles from a file\n",
    "def load_circles(extract_dir):\n",
    "    circles = []\n",
    "    with open(extract_dir, 'r') as f:\n",
    "        for line in f:\n",
    "            circle = line_to_users(line)\n",
    "            circles.append(circle)\n",
    "    return circles"
   ]
  },
  {
   "cell_type": "code",
   "execution_count": null,
   "id": "24b65487-a98f-47a1-a258-9f87490aa6fd",
   "metadata": {},
   "outputs": [],
   "source": [
    "# Function to load features from a file\n",
    "def load_features(extract_dir):\n",
    "    features = []\n",
    "    with open(extract_dir, 'r') as f:\n",
    "        for line in f:\n",
    "             features.append(list(map(int, line.strip().split()[1:])))\n",
    "    return features"
   ]
  },
  {
   "cell_type": "code",
   "execution_count": null,
   "id": "b5f00fa4-eefc-464a-b389-30b33dfa861b",
   "metadata": {},
   "outputs": [],
   "source": [
    "# Function to load feature names from a file\n",
    "def load_featnames(extract_dir):\n",
    "    with open(extract_dir, 'r') as f:\n",
    "        featnames = [line.strip() for line in f]\n",
    "    return featnames"
   ]
  },
  {
   "cell_type": "code",
   "execution_count": null,
   "id": "482abdba-61ee-4297-bdc6-7e86f287d0fa",
   "metadata": {},
   "outputs": [],
   "source": [
    "# Function to adjust the length of the features\n",
    "def adjust_features_length(features, target_length):\n",
    "    while len(features) < target_length:\n",
    "        features.append(0)\n",
    "    return features"
   ]
  },
  {
   "cell_type": "code",
   "execution_count": null,
   "id": "77590ab5-a947-42b4-a545-44bd160e45c3",
   "metadata": {},
   "outputs": [
    {
     "name": "stdout",
     "output_type": "stream",
     "text": [
      "Number of circles: 38\n",
      "Average circle size: 39.53\n",
      "\n"
     ]
    }
   ],
   "source": [
    "# for node_id in selected_node_ids:\n",
    "try:\n",
    "    # Load circles\n",
    "    circles_file = os.path.join(extract_dir, the_file_name)\n",
    "    circles = load_circles(circles_file)\n",
    "    num_circles = len(circles)\n",
    "    avg_circle_size = sum(len(circle) for circle in circles) / num_circles if num_circles > 0 else 0\n",
    "\n",
    "    # Print the analysis results\n",
    "    # print(f\"Analysis for node {node_id}:\")\n",
    "    print(f\"Number of circles: {num_circles}\")\n",
    "    print(f\"Average circle size: {avg_circle_size:.2f}\")\n",
    "    print()\n",
    "except KeyError as e:\n",
    "    # print(f\"KeyError encountered for node {node_id}: {e}\")\n",
    "    print(f\"KeyError encountered: {e}\")\n",
    "except Exception as e:\n",
    "        # print(f\"An error occurred for node {node_id}: {e}\")\n",
    "        print(f\"An error occurred: {e}\")"
   ]
  },
  {
   "cell_type": "code",
   "execution_count": null,
   "id": "3bc00a90-c8eb-42f9-a0ff-bbce05b4a516",
   "metadata": {},
   "outputs": [
    {
     "name": "stdout",
     "output_type": "stream",
     "text": [
      "Graph Nodes: [60059467, 63547528, 68738381, 72923740, 72926723]... (total 1501 nodes)\n",
      "Error computing diameter: Found infinite path length because the graph is not connected\n",
      "Diameter for the ego network: inf\n"
     ]
    },
    {
     "data": {
      "text/plain": [
       "inf"
      ]
     },
     "execution_count": 33,
     "metadata": {},
     "output_type": "execute_result"
    }
   ],
   "source": [
    "# Computing diameter\n",
    "def compute_diameter(G):\n",
    "    try:\n",
    "        diameter = nx.diameter(G)\n",
    "    except nx.NetworkXError as e:\n",
    "        print(f\"Error computing diameter: {e}\")\n",
    "        diameter = float('inf')\n",
    "    return diameter\n",
    "\n",
    "diameter_results = {}\n",
    "# for node_id in selected_node_ids:\n",
    "try:\n",
    "    # edges_file = os.path.join(extract_dir, the_file_name)\n",
    "    # edges = load_edges(edges_file)\n",
    "\n",
    "    # G = nx.Graph()\n",
    "    # G.add_edges_from(edges)\n",
    "    \n",
    "    # print(f\"Node {node_id} Graph Nodes: {list(G.nodes)[:5]}... (total {len(G.nodes)} nodes)\")\n",
    "    print(f\"Graph Nodes: {list(G.nodes)[:5]}... (total {len(G.nodes)} nodes)\")\n",
    "    \n",
    "    diameter = compute_diameter(G)\n",
    "    # diameter_results[node_id] = diameter\n",
    "    diameter_results = diameter\n",
    "    \n",
    "    # print(f\"Diameter for the ego network of node {node_id}: {diameter}\")\n",
    "    print(f\"Diameter for the ego network: {diameter}\")\n",
    "    \n",
    "except KeyError as e:\n",
    "    # print(f\"KeyError encountered for node {node_id}: {e}\")\n",
    "    print(f\"KeyError encountered: {e}\")\n",
    "except Exception as e:\n",
    "    # print(f\"An error occurred for node {node_id}: {e}\")\n",
    "    print(f\"An error occurred: {e}\")\n",
    "\n",
    "diameter_results"
   ]
  },
  {
   "cell_type": "code",
   "execution_count": null,
   "id": "600a730e-b7fe-4b16-aaf0-7551249ba226",
   "metadata": {},
   "outputs": [
    {
     "name": "stdout",
     "output_type": "stream",
     "text": [
      "Density for the ego network: 0.0737\n"
     ]
    }
   ],
   "source": [
    "# Compute density\n",
    "def compute_density(G):\n",
    "    return nx.density(G)\n",
    "\n",
    "density_results = {}\n",
    "# for node_id in selected_node_ids:\n",
    "try:\n",
    "    # edges_file = os.path.join(extract_dir, the_file_name)\n",
    "    # edges = load_edges(edges_file)\n",
    "    \n",
    "    # G = nx.Graph()\n",
    "    # G.add_edges_from(edges)\n",
    "\n",
    "    density = compute_density(G)\n",
    "    # density_results[node_id] = density\n",
    "    density_results = density\n",
    "    \n",
    "    # print(f\"Density for the ego network of node {node_id}: {density:.4f}\")\n",
    "    print(f\"Density for the ego network: {density:.4f}\")\n",
    "    \n",
    "except KeyError as e:\n",
    "    print(f\"KeyError encountered for node {node_id}: {e}\")\n",
    "    traceback.print_exc()\n",
    "except Exception as e:\n",
    "    print(f\"An error occurred for node {node_id}: {e}\")\n",
    "    traceback.print_exc()"
   ]
  },
  {
   "cell_type": "code",
   "execution_count": null,
   "id": "26db997b-0459-4945-a17b-ed851d12f940",
   "metadata": {},
   "outputs": [
    {
     "data": {
      "image/png": "[encoded data removed]",
      "text/plain": [
       "<Figure size 1000x1000 with 1 Axes>"
      ]
     },
     "metadata": {},
     "output_type": "display_data"
    }
   ],
   "source": [
    "# Visualizing graphs\n",
    "def visualize_graph(node_id, G):\n",
    "    plt.figure(figsize=(10, 10))\n",
    "    pos = nx.spring_layout(G)  # Positions for all nodes\n",
    "    nx.draw(G, pos, with_labels=False, node_size=50, node_color=\"skyblue\", edge_color=\"gray\", font_size=10)\n",
    "    # plt.title(f\"Ego Network for Node {node_id}\")\n",
    "    plt.title(f\"Ego Network\")\n",
    "    plt.show()\n",
    "\n",
    "# for node_id in selected_node_ids:\n",
    "try:\n",
    "    # edges_file = os.path.join(extract_dir, the_file_name)\n",
    "    # edges = load_edges(edges_file)\n",
    "    \n",
    "    # G = nx.Graph()\n",
    "    # G.add_edges_from(edges)\n",
    "    \n",
    "    # visualize_graph(node_id, G)\n",
    "    visualize_graph('', G)\n",
    "    \n",
    "except Exception as e:\n",
    "    # print(f\"An error occurred for node {node_id}: {e}\")\n",
    "    print(f\"An error occurred: {e}\")"
   ]
  },
  {
   "cell_type": "code",
   "execution_count": null,
   "id": "6f7e8426-1484-4e0b-acb6-99a95cebd75c",
   "metadata": {},
   "outputs": [],
   "source": []
  }
 ],
 "metadata": {
  "kernelspec": {
   "display_name": "Python 3 (ipykernel)",
   "language": "python",
   "name": "python3"
  },
  "language_info": {
   "codemirror_mode": {
    "name": "ipython",
    "version": 3
   },
   "file_extension": ".py",
   "mimetype": "text/x-python",
   "name": "python",
   "nbconvert_exporter": "python",
   "pygments_lexer": "ipython3",
   "version": "3.11.8"
  }
 },
 "nbformat": 4,
 "nbformat_minor": 5
}
