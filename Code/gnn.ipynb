{
    "cells": [
        {
            "cell_type": "markdown",
            "metadata": {},
            "source": [
                "## Imports"
            ]
        },
        {
            "cell_type": "code",
            "execution_count": 44,
            "metadata": {},
            "outputs": [],
            "source": [
                "import matplotlib.pyplot as plt\n",
                "from sklearn.manifold import TSNE\n",
                "import torch\n",
                "from pathlib import Path\n",
                "import pandas as pd\n",
                "import numpy as np\n",
                "\n",
                "import torch.nn.functional as F\n",
                "from torch_geometric.nn import GCNConv\n",
                "from torch_geometric.nn.models import GAT\n",
                "from torch_geometric.nn.conv import GATv2Conv\n",
                "from torch_geometric.data import Data\n",
                "import pandas as pd\n",
                "import networkx as nx\n",
                "\n",
                "from node2vec import Node2Vec\n",
                "from sklearn.model_selection import train_test_split\n",
                "from sklearn.linear_model import LogisticRegression\n",
                "from sklearn.metrics import accuracy_score, f1_score, classification_report, roc_auc_score\n",
                "\n",
                "import itertools\n",
                "from tqdm import tqdm\n",
                "import re"
            ]
        },
        {
            "cell_type": "code",
            "execution_count": 45,
            "metadata": {},
            "outputs": [],
            "source": [
                "file_name = 'vk_combined'\n",
                "group_size = 5_00\n",
                "user_id = 113074851\n",
                "\n",
                "def line_to_users(line):\n",
                "    return split_line(line)[1:]\n",
                "\n",
                "def split_line(line):\n",
                "    return re.split(';|,', line.strip())[:]\n",
                "\n",
                "# Извлекаем все пары пользователей в одном сообществе (ненаправленные)\n",
                "def combinations(seq):\n",
                "    yield from itertools.combinations(seq, 2)"
            ]
        },
        {
            "cell_type": "code",
            "execution_count": 46,
            "metadata": {},
            "outputs": [],
            "source": [
                "# from collections import Counter\n",
                "\n",
                "# def select_cool(extract_dir):\n",
                "#     edges = []\n",
                "#     with open(extract_dir, 'r') as f:\n",
                "#         for line in tqdm(f):\n",
                "#             the_line = line_to_users(line)\n",
                "#             edges+=the_line\n",
                "#             # if i > 3: break\n",
                "#     print('Returning')\n",
                "#     print(Counter(edges).most_common(10))\n",
                "#     # # подсчитать максимальное кол-во элементов\n",
                "#     # max_count = edges.count(max(edges, key=lambda i: edges.count(i)))\n",
                "#     # # найти все элементы \n",
                "#     # res = {i for i in edges if edges.count(i) == max_count}\n",
                "#     # print(res)\n",
                "    \n",
                "# select_cool('D:\\ROOT\\\\vk_data\\\\raw\\groups&users all.csv')\n",
                "\n",
                "# [('93654448', 628), ('88330425', 424), ('126116437', 420), ('4920826', 409), ('2563875', 391), ('28488238', 343), ('25681279', 327), ('117943603', 326), ('14077371', 324), ('113074851', 318)]"
            ]
        },
        {
            "cell_type": "code",
            "execution_count": 47,
            "metadata": {},
            "outputs": [],
            "source": [
                "# Записываем только сообщества с пользователем\n",
                "def user_groups(extract_dir, user_id):\n",
                "    edges = []\n",
                "    i = 0\n",
                "    with open(extract_dir, 'r') as f:\n",
                "        for line in tqdm(f):\n",
                "            # the_line = split_line(line)\n",
                "            if str(user_id) in line:\n",
                "                # print(line)\n",
                "                edges.append(str(line))\n",
                "                # i += 1\n",
                "            # if i > 3: break\n",
                "    print('Returning')\n",
                "    # print(edges)\n",
                "    f = open(str(user_id) + '.txt', \"w\")\n",
                "    f.write(''.join([x for x in edges]))\n",
                "    f.close()\n",
                "    \n",
                "# user_groups('D:\\ROOT\\\\vk_data\\\\raw\\groups&users all.csv', user_id)"
            ]
        },
        {
            "cell_type": "code",
            "execution_count": 48,
            "metadata": {},
            "outputs": [],
            "source": [
                "def vk_combined_generator(extract_dir, name = file_name):\n",
                "    edges = []\n",
                "    i = 0\n",
                "    with open(extract_dir, 'r') as f:\n",
                "        for line in tqdm(f):\n",
                "            the_line = line_to_users(line)\n",
                "            # if len(the_line) < group_size:\n",
                "            i+=1\n",
                "            if i%500 == 0: print(i)\n",
                "            for c in combinations(the_line):\n",
                "                edge = tuple(map(int, c))\n",
                "                edges.append(edge)\n",
                "            # if i > 100: break\n",
                "    print('Returning')\n",
                "    f = open(str(name) + '_' + str(group_size) + '.txt', \"w\")\n",
                "    f.write('\\n'.join('%s %s' % x for x in edges))\n",
                "    f.close()\n",
                "    \n",
                "# extract_dir = str(user_id)+'.txt'\n",
                "# vk_edges = vk_combined_generator(extract_dir, name=user_id)"
            ]
        },
        {
            "cell_type": "code",
            "execution_count": 49,
            "metadata": {},
            "outputs": [],
            "source": [
                "device = \"cuda:0\" if torch.cuda.is_available() else \"cpu\""
            ]
        },
        {
            "cell_type": "code",
            "execution_count": 50,
            "metadata": {},
            "outputs": [],
            "source": [
                "def visualize(h, color):\n",
                "    z = TSNE(n_components=2).fit_transform(h.detach().cpu().numpy())\n",
                "\n",
                "    plt.figure(figsize=(10,10))\n",
                "    plt.xticks([])\n",
                "    plt.yticks([])\n",
                "\n",
                "    plt.scatter(z[:, 0], z[:, 1], s=70, c=color, cmap=\"Set2\")\n",
                "    plt.show()"
            ]
        },
        {
            "cell_type": "code",
            "execution_count": 51,
            "metadata": {},
            "outputs": [],
            "source": [
                "my_dict = {}\n",
                "\n",
                "# Load the vkontakte Circles dataset and preprocess\n",
                "def load_vkontakte_data():    \n",
                "    max_nodes = 900\n",
                "    # Load edges\n",
                "    # edges = pd.read_csv('../data/vkontakte_combined.txt', delimiter=' ', header=None)\n",
                "    # edges = pd.read_csv('../data/vk_combined_'+str(group_size)+'.txt', delimiter=' ', header=None)\n",
                "    edges = pd.read_csv(str(user_id)+'_'+str(group_size)+'.txt', delimiter=' ', header=None)\n",
                "    i = 0\n",
                "    for j in set(list(edges[0])+list(edges[1])):\n",
                "        if i >= max_nodes: break\n",
                "        if j not in my_dict:\n",
                "            my_dict[j] = i\n",
                "            i += 1\n",
                "\n",
                "    edges = edges.loc[edges[0].isin(my_dict)]\n",
                "    edges = edges.loc[edges[1].isin(my_dict)]\n",
                "\n",
                "    print('Indexing')  \n",
                "\n",
                "    edges[0] = edges[0].replace(my_dict)\n",
                "    edges[1] = edges[1].replace(my_dict)\n",
                "      \n",
                "    print('Indexed')\n",
                "    # edges = pd.read_csv('D:\\ROOT\\\\vk_data\\\\raw\\\\groups&users.csv', delimiter=' ', header=None)\n",
                "    edges = edges.values.T\n",
                "\n",
                "    # Load labels (assuming binary classification for gender)\n",
                "    gender_labels = []\n",
                "    features = []\n",
                "    for feat in Path(\"./\").glob(\"*.friends\"):\n",
                "        # df = pd.read_csv(feat, sep=\" \", index_col=0, header=None)\n",
                "        df = pd.read_csv(feat, sep=\";\", index_col=0)\n",
                "        # gender_idx = df.index[df.iloc[:, 0].str.find(\"sex\") != -1].values\n",
                "        # feature_names = (df.columns.astype(str)).values\n",
                "\n",
                "    #     # get label features\n",
                "        # df = pd.read_csv(feat.with_suffix(\".friends\"), sep=\";\", index_col=0)\n",
                "        indexes = df.index.values\n",
                "        # print(indexes.values)\n",
                "        df.index = [my_dict.get(x) for x in indexes]\n",
                "        df = df.loc[df.sex!=0]\n",
                "        tmp_df = pd.read_csv(feat.with_suffix(\".groups\"), sep=\";\", index_col=0)\n",
                "        # tmp_df.columns = tmp_df.columns + 1\n",
                "        # print(feat.stem)\n",
                "        # print(tmp_df.index)\n",
                "        # tmp_df.index = [int(feat.stem)]\n",
                "        # print(tmp_df)\n",
                "        # print(df)\n",
                "        df = pd.concat([tmp_df, df], axis=0)\n",
                "\n",
                "    #     labels = df.iloc[:, gender_idx]\n",
                "        gender_labels.append(df.sex)\n",
                "    #     print(f\"для {feat}\")\n",
                "    #     stat_gender_collision = (labels.iloc[:, 0] != labels.iloc[:, 1]).sum() / labels.shape[0]\n",
                "    #     print(f\"количество правильных гендеров: {stat_gender_collision}\")\n",
                "    #     print()\n",
                "    #     # иногда почему то гендер пересекается...\n",
                "\n",
                "        # df.columns = feature_names\n",
                "        features.append(df)\n",
                "        break\n",
                "\n",
                "    gender_labels = pd.concat(gender_labels, axis=0)\n",
                "    gender_labels = gender_labels[~gender_labels.index.duplicated(keep=\"first\")]\n",
                "    features = pd.concat(features, axis=0)\n",
                "    to_drop = 'type  name;contacts;country;photo_50;photo_100;photo_200;site;occupation;screen_name;first_name;last_name;city;interests;tv;games;activities;career;university;university_name;faculty;faculty_name;education_form;home_town;personal;universities;schools;relatives;mobile_phone;home_phone;skype;education_status;livejournal;track_code;facebook;facebook_name;instagram'\n",
                "    features.drop(to_drop.split(';'), axis= 1, inplace=True)\n",
                "    # print(features)\n",
                "    # features = features[~features.index.duplicated(keep=\"first\")]\n",
                "    # Тут в фичах будет довольно много плохих фичей, поэтому их стоит дропнуть\n",
                "    good_features = features.isna().sum() \n",
                "    good_features = good_features[(good_features / features.shape[0]) < 0.2].index\n",
                "    features = features[good_features].fillna(0)\n",
                "\n",
                "    gender_labels = torch.tensor(gender_labels.sort_index().values)\n",
                "    features = torch.tensor(features.sort_index().values, dtype=torch.float32)\n",
                "    edge_index = torch.tensor(edges, dtype=torch.long)\n",
                "\n",
                "    return features, edge_index, gender_labels\n",
                "\n",
                "# load_vkontakte_data()\n",
                "# features, edge_index, labels = load_vkontakte_data()\n"
            ]
        },
        {
            "cell_type": "markdown",
            "metadata": {},
            "source": [
                "### Define model"
            ]
        },
        {
            "cell_type": "code",
            "execution_count": 52,
            "metadata": {},
            "outputs": [],
            "source": [
                "# Define the GCN model\n",
                "class GCN(torch.nn.Module):\n",
                "    def __init__(self, in_channels, hidden_channels, out_channels):\n",
                "        super(GCN, self).__init__()\n",
                "        self.conv1 = GCNConv(in_channels, hidden_channels)\n",
                "        self.conv2 = GCNConv(hidden_channels, out_channels)\n",
                "\n",
                "    def forward(self, data):\n",
                "        x, edge_index = data.x, data.edge_index\n",
                "        x = self.conv1(x, edge_index)\n",
                "        x = F.relu(x)\n",
                "        x = F.dropout(x, training=self.training)\n",
                "        x = self.conv2(x, edge_index)\n",
                "        return F.log_softmax(x, dim=1)"
            ]
        },
        {
            "cell_type": "code",
            "execution_count": 68,
            "metadata": {},
            "outputs": [
                {
                    "name": "stdout",
                    "output_type": "stream",
                    "text": [
                        "Indexing\n",
                        "Indexed\n"
                    ]
                }
            ],
            "source": [
                "# Prepare the data\n",
                "features, edge_index, labels = load_vkontakte_data()\n",
                "# features can be random\n",
                "random_features = torch.randn(labels.shape[0], 32)  # 16-dim node features\n",
                "\n",
                "data = Data(x=random_features, edge_index=edge_index, y=labels)\n",
                "\n",
                "# Split the data into train and test sets\n",
                "train_mask = torch.zeros(len(data.y), dtype=torch.bool)\n",
                "# train_mask = torch.zeros(data.num_nodes, dtype=torch.bool)\n",
                "train_mask[:int(0.8 * len(data.y))] = True\n",
                "train_mask[:int(0.8 * data.num_nodes)] = True\n",
                "test_mask = ~train_mask\n",
                "\n",
                "data.train_mask = train_mask\n",
                "data.test_mask = test_mask\n"
            ]
        },
        {
            "cell_type": "code",
            "execution_count": 65,
            "metadata": {},
            "outputs": [
                {
                    "data": {
                        "text/plain": [
                            "4039"
                        ]
                    },
                    "execution_count": 65,
                    "metadata": {},
                    "output_type": "execute_result"
                }
            ],
            "source": [
                "data.num_nodes"
            ]
        },
        {
            "cell_type": "code",
            "execution_count": 60,
            "metadata": {},
            "outputs": [
                {
                    "data": {
                        "image/png": "[encoded data removed]",
                        "text/plain": [
                            "<Figure size 1000x1000 with 1 Axes>"
                        ]
                    },
                    "metadata": {},
                    "output_type": "display_data"
                }
            ],
            "source": [
                "color = labels[data.test_mask]\n",
                "visualize(data.x[data.test_mask], color)"
            ]
        },
        {
            "cell_type": "markdown",
            "metadata": {},
            "source": [
                "## Craft features from node2vec"
            ]
        },
        {
            "cell_type": "code",
            "execution_count": 69,
            "metadata": {},
            "outputs": [
                {
                    "data": {
                        "application/vnd.jupyter.widget-view+json": {
                            "model_id": "425a9d40bb7d4ef9832bafa8fe6417a4",
                            "version_major": 2,
                            "version_minor": 0
                        },
                        "text/plain": [
                            "Computing transition probabilities:   0%|          | 0/900 [00:00<?, ?it/s]"
                        ]
                    },
                    "metadata": {},
                    "output_type": "display_data"
                },
                {
                    "name": "stderr",
                    "output_type": "stream",
                    "text": [
                        "C:\\Users\\ksenia\\AppData\\Local\\Packages\\PythonSoftwareFoundation.Python.3.11_qbz5n2kfra8p0\\LocalCache\\local-packages\\Python311\\site-packages\\joblib\\externals\\loky\\process_executor.py:700: UserWarning: A worker stopped while some jobs were given to the executor. This can be caused by a too short worker timeout or by a memory leak.\n",
                        "  warnings.warn(\n"
                    ]
                }
            ],
            "source": [
                "import pickle\n",
                "if not Path(\"../data/n2v_embs.pcl\").exists():\n",
                "    # Prepare the graph\n",
                "    G = nx.from_edgelist(data.edge_index.cpu().numpy().T)\n",
                "\n",
                "    # Apply Node2Vec\n",
                "    node2vec = Node2Vec(G, dimensions=64, walk_length=30, num_walks=200, workers=4)\n",
                "    model_nv = node2vec.fit(window=10, min_count=1, batch_words=4)\n",
                "\n",
                "    # Extract node embeddings\n",
                "    node_embeddings = {node: model_nv.wv[node] for node in G.nodes()}\n",
                "\n",
                "    n2v_embs = [node_embeddings[idx] for idx in range(len(data.y))]\n",
                "    with open(\"../data/n2v_embs.pcl\", \"wb\") as f:\n",
                "        pickle.dump(np.vstack(n2v_embs), f)\n",
                "    n2v_embs = np.vstack(n2v_embs)\n",
                "else:\n",
                "    with open(\"../data/n2v_embs.pcl\", \"rb\") as f:\n",
                "        n2v_embs = pickle.load(f)"
            ]
        },
        {
            "cell_type": "markdown",
            "metadata": {},
            "source": [
                "### GCN model"
            ]
        },
        {
            "cell_type": "code",
            "execution_count": null,
            "metadata": {},
            "outputs": [],
            "source": [
                "data"
            ]
        },
        {
            "cell_type": "code",
            "execution_count": 70,
            "metadata": {},
            "outputs": [
                {
                    "ename": "RuntimeError",
                    "evalue": "index 866 is out of bounds for dimension 0 with size 353",
                    "output_type": "error",
                    "traceback": [
                        "\u001b[1;31m---------------------------------------------------------------------------\u001b[0m",
                        "\u001b[1;31mRuntimeError\u001b[0m                              Traceback (most recent call last)",
                        "Cell \u001b[1;32mIn[70], line 31\u001b[0m\n\u001b[0;32m     29\u001b[0m \u001b[38;5;66;03m# Train the model_gcn_nv\u001b[39;00m\n\u001b[0;32m     30\u001b[0m \u001b[38;5;28;01mfor\u001b[39;00m epoch \u001b[38;5;129;01min\u001b[39;00m \u001b[38;5;28mrange\u001b[39m(\u001b[38;5;241m100\u001b[39m):\n\u001b[1;32m---> 31\u001b[0m     loss \u001b[38;5;241m=\u001b[39m \u001b[43mtrain\u001b[49m\u001b[43m(\u001b[49m\u001b[43m)\u001b[49m\n\u001b[0;32m     32\u001b[0m     acc \u001b[38;5;241m=\u001b[39m test()\n\u001b[0;32m     33\u001b[0m     \u001b[38;5;28;01mif\u001b[39;00m epoch \u001b[38;5;241m%\u001b[39m \u001b[38;5;241m10\u001b[39m \u001b[38;5;241m==\u001b[39m \u001b[38;5;241m0\u001b[39m:\n",
                        "Cell \u001b[1;32mIn[70], line 12\u001b[0m, in \u001b[0;36mtrain\u001b[1;34m()\u001b[0m\n\u001b[0;32m     10\u001b[0m model_gcn_nv\u001b[38;5;241m.\u001b[39mtrain()\n\u001b[0;32m     11\u001b[0m optimizer_gcn_nv\u001b[38;5;241m.\u001b[39mzero_grad()\n\u001b[1;32m---> 12\u001b[0m out \u001b[38;5;241m=\u001b[39m \u001b[43mmodel_gcn_nv\u001b[49m\u001b[43m(\u001b[49m\u001b[43mdata\u001b[49m\u001b[43m)\u001b[49m\n\u001b[0;32m     13\u001b[0m \u001b[38;5;28mprint\u001b[39m(out\u001b[38;5;241m.\u001b[39mshape)\n\u001b[0;32m     14\u001b[0m \u001b[38;5;28mprint\u001b[39m(data\u001b[38;5;241m.\u001b[39mtrain_mask\u001b[38;5;241m.\u001b[39mshape)\n",
                        "File \u001b[1;32m~\\AppData\\Local\\Packages\\PythonSoftwareFoundation.Python.3.11_qbz5n2kfra8p0\\LocalCache\\local-packages\\Python311\\site-packages\\torch\\nn\\modules\\module.py:1501\u001b[0m, in \u001b[0;36mModule._call_impl\u001b[1;34m(self, *args, **kwargs)\u001b[0m\n\u001b[0;32m   1496\u001b[0m \u001b[38;5;66;03m# If we don't have any hooks, we want to skip the rest of the logic in\u001b[39;00m\n\u001b[0;32m   1497\u001b[0m \u001b[38;5;66;03m# this function, and just call forward.\u001b[39;00m\n\u001b[0;32m   1498\u001b[0m \u001b[38;5;28;01mif\u001b[39;00m \u001b[38;5;129;01mnot\u001b[39;00m (\u001b[38;5;28mself\u001b[39m\u001b[38;5;241m.\u001b[39m_backward_hooks \u001b[38;5;129;01mor\u001b[39;00m \u001b[38;5;28mself\u001b[39m\u001b[38;5;241m.\u001b[39m_backward_pre_hooks \u001b[38;5;129;01mor\u001b[39;00m \u001b[38;5;28mself\u001b[39m\u001b[38;5;241m.\u001b[39m_forward_hooks \u001b[38;5;129;01mor\u001b[39;00m \u001b[38;5;28mself\u001b[39m\u001b[38;5;241m.\u001b[39m_forward_pre_hooks\n\u001b[0;32m   1499\u001b[0m         \u001b[38;5;129;01mor\u001b[39;00m _global_backward_pre_hooks \u001b[38;5;129;01mor\u001b[39;00m _global_backward_hooks\n\u001b[0;32m   1500\u001b[0m         \u001b[38;5;129;01mor\u001b[39;00m _global_forward_hooks \u001b[38;5;129;01mor\u001b[39;00m _global_forward_pre_hooks):\n\u001b[1;32m-> 1501\u001b[0m     \u001b[38;5;28;01mreturn\u001b[39;00m \u001b[43mforward_call\u001b[49m\u001b[43m(\u001b[49m\u001b[38;5;241;43m*\u001b[39;49m\u001b[43margs\u001b[49m\u001b[43m,\u001b[49m\u001b[43m \u001b[49m\u001b[38;5;241;43m*\u001b[39;49m\u001b[38;5;241;43m*\u001b[39;49m\u001b[43mkwargs\u001b[49m\u001b[43m)\u001b[49m\n\u001b[0;32m   1502\u001b[0m \u001b[38;5;66;03m# Do not call functions when jit is used\u001b[39;00m\n\u001b[0;32m   1503\u001b[0m full_backward_hooks, non_full_backward_hooks \u001b[38;5;241m=\u001b[39m [], []\n",
                        "Cell \u001b[1;32mIn[52], line 10\u001b[0m, in \u001b[0;36mGCN.forward\u001b[1;34m(self, data)\u001b[0m\n\u001b[0;32m      8\u001b[0m \u001b[38;5;28;01mdef\u001b[39;00m \u001b[38;5;21mforward\u001b[39m(\u001b[38;5;28mself\u001b[39m, data):\n\u001b[0;32m      9\u001b[0m     x, edge_index \u001b[38;5;241m=\u001b[39m data\u001b[38;5;241m.\u001b[39mx, data\u001b[38;5;241m.\u001b[39medge_index\n\u001b[1;32m---> 10\u001b[0m     x \u001b[38;5;241m=\u001b[39m \u001b[38;5;28;43mself\u001b[39;49m\u001b[38;5;241;43m.\u001b[39;49m\u001b[43mconv1\u001b[49m\u001b[43m(\u001b[49m\u001b[43mx\u001b[49m\u001b[43m,\u001b[49m\u001b[43m \u001b[49m\u001b[43medge_index\u001b[49m\u001b[43m)\u001b[49m\n\u001b[0;32m     11\u001b[0m     x \u001b[38;5;241m=\u001b[39m F\u001b[38;5;241m.\u001b[39mrelu(x)\n\u001b[0;32m     12\u001b[0m     x \u001b[38;5;241m=\u001b[39m F\u001b[38;5;241m.\u001b[39mdropout(x, training\u001b[38;5;241m=\u001b[39m\u001b[38;5;28mself\u001b[39m\u001b[38;5;241m.\u001b[39mtraining)\n",
                        "File \u001b[1;32m~\\AppData\\Local\\Packages\\PythonSoftwareFoundation.Python.3.11_qbz5n2kfra8p0\\LocalCache\\local-packages\\Python311\\site-packages\\torch\\nn\\modules\\module.py:1501\u001b[0m, in \u001b[0;36mModule._call_impl\u001b[1;34m(self, *args, **kwargs)\u001b[0m\n\u001b[0;32m   1496\u001b[0m \u001b[38;5;66;03m# If we don't have any hooks, we want to skip the rest of the logic in\u001b[39;00m\n\u001b[0;32m   1497\u001b[0m \u001b[38;5;66;03m# this function, and just call forward.\u001b[39;00m\n\u001b[0;32m   1498\u001b[0m \u001b[38;5;28;01mif\u001b[39;00m \u001b[38;5;129;01mnot\u001b[39;00m (\u001b[38;5;28mself\u001b[39m\u001b[38;5;241m.\u001b[39m_backward_hooks \u001b[38;5;129;01mor\u001b[39;00m \u001b[38;5;28mself\u001b[39m\u001b[38;5;241m.\u001b[39m_backward_pre_hooks \u001b[38;5;129;01mor\u001b[39;00m \u001b[38;5;28mself\u001b[39m\u001b[38;5;241m.\u001b[39m_forward_hooks \u001b[38;5;129;01mor\u001b[39;00m \u001b[38;5;28mself\u001b[39m\u001b[38;5;241m.\u001b[39m_forward_pre_hooks\n\u001b[0;32m   1499\u001b[0m         \u001b[38;5;129;01mor\u001b[39;00m _global_backward_pre_hooks \u001b[38;5;129;01mor\u001b[39;00m _global_backward_hooks\n\u001b[0;32m   1500\u001b[0m         \u001b[38;5;129;01mor\u001b[39;00m _global_forward_hooks \u001b[38;5;129;01mor\u001b[39;00m _global_forward_pre_hooks):\n\u001b[1;32m-> 1501\u001b[0m     \u001b[38;5;28;01mreturn\u001b[39;00m \u001b[43mforward_call\u001b[49m\u001b[43m(\u001b[49m\u001b[38;5;241;43m*\u001b[39;49m\u001b[43margs\u001b[49m\u001b[43m,\u001b[49m\u001b[43m \u001b[49m\u001b[38;5;241;43m*\u001b[39;49m\u001b[38;5;241;43m*\u001b[39;49m\u001b[43mkwargs\u001b[49m\u001b[43m)\u001b[49m\n\u001b[0;32m   1502\u001b[0m \u001b[38;5;66;03m# Do not call functions when jit is used\u001b[39;00m\n\u001b[0;32m   1503\u001b[0m full_backward_hooks, non_full_backward_hooks \u001b[38;5;241m=\u001b[39m [], []\n",
                        "File \u001b[1;32m~\\AppData\\Local\\Packages\\PythonSoftwareFoundation.Python.3.11_qbz5n2kfra8p0\\LocalCache\\local-packages\\Python311\\site-packages\\torch_geometric\\nn\\conv\\gcn_conv.py:222\u001b[0m, in \u001b[0;36mGCNConv.forward\u001b[1;34m(self, x, edge_index, edge_weight)\u001b[0m\n\u001b[0;32m    220\u001b[0m cache \u001b[38;5;241m=\u001b[39m \u001b[38;5;28mself\u001b[39m\u001b[38;5;241m.\u001b[39m_cached_edge_index\n\u001b[0;32m    221\u001b[0m \u001b[38;5;28;01mif\u001b[39;00m cache \u001b[38;5;129;01mis\u001b[39;00m \u001b[38;5;28;01mNone\u001b[39;00m:\n\u001b[1;32m--> 222\u001b[0m     edge_index, edge_weight \u001b[38;5;241m=\u001b[39m \u001b[43mgcn_norm\u001b[49m\u001b[43m(\u001b[49m\u001b[43m  \u001b[49m\u001b[38;5;66;43;03m# yapf: disable\u001b[39;49;00m\n\u001b[0;32m    223\u001b[0m \u001b[43m        \u001b[49m\u001b[43medge_index\u001b[49m\u001b[43m,\u001b[49m\u001b[43m \u001b[49m\u001b[43medge_weight\u001b[49m\u001b[43m,\u001b[49m\u001b[43m \u001b[49m\u001b[43mx\u001b[49m\u001b[38;5;241;43m.\u001b[39;49m\u001b[43msize\u001b[49m\u001b[43m(\u001b[49m\u001b[38;5;28;43mself\u001b[39;49m\u001b[38;5;241;43m.\u001b[39;49m\u001b[43mnode_dim\u001b[49m\u001b[43m)\u001b[49m\u001b[43m,\u001b[49m\n\u001b[0;32m    224\u001b[0m \u001b[43m        \u001b[49m\u001b[38;5;28;43mself\u001b[39;49m\u001b[38;5;241;43m.\u001b[39;49m\u001b[43mimproved\u001b[49m\u001b[43m,\u001b[49m\u001b[43m \u001b[49m\u001b[38;5;28;43mself\u001b[39;49m\u001b[38;5;241;43m.\u001b[39;49m\u001b[43madd_self_loops\u001b[49m\u001b[43m,\u001b[49m\u001b[43m \u001b[49m\u001b[38;5;28;43mself\u001b[39;49m\u001b[38;5;241;43m.\u001b[39;49m\u001b[43mflow\u001b[49m\u001b[43m,\u001b[49m\u001b[43m \u001b[49m\u001b[43mx\u001b[49m\u001b[38;5;241;43m.\u001b[39;49m\u001b[43mdtype\u001b[49m\u001b[43m)\u001b[49m\n\u001b[0;32m    225\u001b[0m     \u001b[38;5;28;01mif\u001b[39;00m \u001b[38;5;28mself\u001b[39m\u001b[38;5;241m.\u001b[39mcached:\n\u001b[0;32m    226\u001b[0m         \u001b[38;5;28mself\u001b[39m\u001b[38;5;241m.\u001b[39m_cached_edge_index \u001b[38;5;241m=\u001b[39m (edge_index, edge_weight)\n",
                        "File \u001b[1;32m~\\AppData\\Local\\Packages\\PythonSoftwareFoundation.Python.3.11_qbz5n2kfra8p0\\LocalCache\\local-packages\\Python311\\site-packages\\torch_geometric\\nn\\conv\\gcn_conv.py:100\u001b[0m, in \u001b[0;36mgcn_norm\u001b[1;34m(edge_index, edge_weight, num_nodes, improved, add_self_loops, flow, dtype)\u001b[0m\n\u001b[0;32m     98\u001b[0m row, col \u001b[38;5;241m=\u001b[39m edge_index[\u001b[38;5;241m0\u001b[39m], edge_index[\u001b[38;5;241m1\u001b[39m]\n\u001b[0;32m     99\u001b[0m idx \u001b[38;5;241m=\u001b[39m col \u001b[38;5;28;01mif\u001b[39;00m flow \u001b[38;5;241m==\u001b[39m \u001b[38;5;124m'\u001b[39m\u001b[38;5;124msource_to_target\u001b[39m\u001b[38;5;124m'\u001b[39m \u001b[38;5;28;01melse\u001b[39;00m row\n\u001b[1;32m--> 100\u001b[0m deg \u001b[38;5;241m=\u001b[39m \u001b[43mscatter\u001b[49m\u001b[43m(\u001b[49m\u001b[43medge_weight\u001b[49m\u001b[43m,\u001b[49m\u001b[43m \u001b[49m\u001b[43midx\u001b[49m\u001b[43m,\u001b[49m\u001b[43m \u001b[49m\u001b[43mdim\u001b[49m\u001b[38;5;241;43m=\u001b[39;49m\u001b[38;5;241;43m0\u001b[39;49m\u001b[43m,\u001b[49m\u001b[43m \u001b[49m\u001b[43mdim_size\u001b[49m\u001b[38;5;241;43m=\u001b[39;49m\u001b[43mnum_nodes\u001b[49m\u001b[43m,\u001b[49m\u001b[43m \u001b[49m\u001b[43mreduce\u001b[49m\u001b[38;5;241;43m=\u001b[39;49m\u001b[38;5;124;43m'\u001b[39;49m\u001b[38;5;124;43msum\u001b[39;49m\u001b[38;5;124;43m'\u001b[39;49m\u001b[43m)\u001b[49m\n\u001b[0;32m    101\u001b[0m deg_inv_sqrt \u001b[38;5;241m=\u001b[39m deg\u001b[38;5;241m.\u001b[39mpow_(\u001b[38;5;241m-\u001b[39m\u001b[38;5;241m0.5\u001b[39m)\n\u001b[0;32m    102\u001b[0m deg_inv_sqrt\u001b[38;5;241m.\u001b[39mmasked_fill_(deg_inv_sqrt \u001b[38;5;241m==\u001b[39m \u001b[38;5;28mfloat\u001b[39m(\u001b[38;5;124m'\u001b[39m\u001b[38;5;124minf\u001b[39m\u001b[38;5;124m'\u001b[39m), \u001b[38;5;241m0\u001b[39m)\n",
                        "File \u001b[1;32m~\\AppData\\Local\\Packages\\PythonSoftwareFoundation.Python.3.11_qbz5n2kfra8p0\\LocalCache\\local-packages\\Python311\\site-packages\\torch_geometric\\utils\\scatter.py:70\u001b[0m, in \u001b[0;36mscatter\u001b[1;34m(src, index, dim, dim_size, reduce)\u001b[0m\n\u001b[0;32m     68\u001b[0m \u001b[38;5;28;01mif\u001b[39;00m reduce \u001b[38;5;241m==\u001b[39m \u001b[38;5;124m'\u001b[39m\u001b[38;5;124msum\u001b[39m\u001b[38;5;124m'\u001b[39m \u001b[38;5;129;01mor\u001b[39;00m reduce \u001b[38;5;241m==\u001b[39m \u001b[38;5;124m'\u001b[39m\u001b[38;5;124madd\u001b[39m\u001b[38;5;124m'\u001b[39m:\n\u001b[0;32m     69\u001b[0m     index \u001b[38;5;241m=\u001b[39m broadcast(index, src, dim)\n\u001b[1;32m---> 70\u001b[0m     \u001b[38;5;28;01mreturn\u001b[39;00m \u001b[43msrc\u001b[49m\u001b[38;5;241;43m.\u001b[39;49m\u001b[43mnew_zeros\u001b[49m\u001b[43m(\u001b[49m\u001b[43msize\u001b[49m\u001b[43m)\u001b[49m\u001b[38;5;241;43m.\u001b[39;49m\u001b[43mscatter_add_\u001b[49m\u001b[43m(\u001b[49m\u001b[43mdim\u001b[49m\u001b[43m,\u001b[49m\u001b[43m \u001b[49m\u001b[43mindex\u001b[49m\u001b[43m,\u001b[49m\u001b[43m \u001b[49m\u001b[43msrc\u001b[49m\u001b[43m)\u001b[49m\n\u001b[0;32m     72\u001b[0m \u001b[38;5;28;01mif\u001b[39;00m reduce \u001b[38;5;241m==\u001b[39m \u001b[38;5;124m'\u001b[39m\u001b[38;5;124mmean\u001b[39m\u001b[38;5;124m'\u001b[39m:\n\u001b[0;32m     73\u001b[0m     count \u001b[38;5;241m=\u001b[39m src\u001b[38;5;241m.\u001b[39mnew_zeros(dim_size)\n",
                        "\u001b[1;31mRuntimeError\u001b[0m: index 866 is out of bounds for dimension 0 with size 353"
                    ]
                }
            ],
            "source": [
                "data.x=torch.tensor(np.vstack(n2v_embs), dtype=torch.float32)\n",
                "data.to(device)\n",
                "\n",
                "# Initialize the model, optimizer_gcn_nv, and loss function\n",
                "model_gcn_nv = GCN(in_channels=data.x.shape[1], hidden_channels=64, out_channels=2).to(device)\n",
                "optimizer_gcn_nv = torch.optim.Adam(model_gcn_nv.parameters(), lr=0.01, weight_decay=5e-4)\n",
                "\n",
                "# Training loop\n",
                "def train():\n",
                "    model_gcn_nv.train()\n",
                "    optimizer_gcn_nv.zero_grad()\n",
                "    out = model_gcn_nv(data)\n",
                "    print(out.shape)\n",
                "    print(data.train_mask.shape)\n",
                "    # loss = F.nll_loss(out[data.train_mask], data.y[data.train_mask])\n",
                "    # loss.backward()\n",
                "    # optimizer_gcn_nv.step()\n",
                "    # return loss.item()\n",
                "\n",
                "def test():\n",
                "    model_gcn_nv.eval()\n",
                "    with torch.no_grad():\n",
                "        logits = model_gcn_nv(data)\n",
                "        test_mask = data.test_mask\n",
                "        pred = logits[test_mask].max(1)[1]\n",
                "        acc = pred.eq(data.y[test_mask]).sum().item() / test_mask.sum().item()\n",
                "    return acc\n",
                "\n",
                "# Train the model_gcn_nv\n",
                "for epoch in range(100):\n",
                "    loss = train()\n",
                "    acc = test()\n",
                "    if epoch % 10 == 0:\n",
                "        print(f'Epoch {epoch}, Loss: {loss:.4f}, Test Accuracy: {acc:.4f}')\n",
                "\n",
                "print('Final Test Accuracy:', acc)"
            ]
        }
    ],
    "metadata": {
        "kernelspec": {
            "display_name": "venv",
            "language": "python",
            "name": "python3"
        },
        "language_info": {
            "codemirror_mode": {
                "name": "ipython",
                "version": 3
            },
            "file_extension": ".py",
            "mimetype": "text/x-python",
            "name": "python",
            "nbconvert_exporter": "python",
            "pygments_lexer": "ipython3",
            "version": "3.11.9"
        }
    },
    "nbformat": 4,
    "nbformat_minor": 2
}
